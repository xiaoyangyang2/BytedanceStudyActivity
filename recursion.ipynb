{
 "cells": [
  {
   "cell_type": "code",
   "execution_count": 5,
   "metadata": {},
   "outputs": [
    {
     "data": {
      "text/plain": [
       "24"
      ]
     },
     "execution_count": 5,
     "metadata": {},
     "output_type": "execute_result"
    }
   ],
   "source": [
    "def fac(n):\n",
    "    \"求n!\"\n",
    "    if n==1:\n",
    "        return 1\n",
    "    else:\n",
    "        return n*fac(n-1)\n",
    "fac(4)"
   ]
  },
  {
   "cell_type": "code",
   "execution_count": 12,
   "metadata": {},
   "outputs": [],
   "source": [
    "def jump(n):\n",
    "    \"青蛙跳台阶跳法\"\n",
    "    if n==1:\n",
    "        return 1\n",
    "    elif n==2:\n",
    "            return 2\n",
    "    else:\n",
    "        return jump(n-1)+jump(n-2)"
   ]
  },
  {
   "cell_type": "code",
   "execution_count": 13,
   "metadata": {},
   "outputs": [
    {
     "data": {
      "text/plain": [
       "3"
      ]
     },
     "execution_count": 13,
     "metadata": {},
     "output_type": "execute_result"
    }
   ],
   "source": [
    "jump(3)"
   ]
  },
  {
   "cell_type": "code",
   "execution_count": 26,
   "metadata": {},
   "outputs": [
    {
     "name": "stdout",
     "output_type": "stream",
     "text": [
      "1000\n"
     ]
    },
    {
     "data": {
      "text/plain": [
       "3"
      ]
     },
     "execution_count": 26,
     "metadata": {},
     "output_type": "execute_result"
    }
   ],
   "source": [
    "def max_arr_1(arr):\n",
    "    \"递归方式求数组最大值\"\n",
    "    if (len(arr)==1):\n",
    "        return arr[0]\n",
    "    if len(arr)==2:\n",
    "        if arr[0]>=arr[1]:\n",
    "            return arr[0]\n",
    "        else:\n",
    "            return arr[1]\n",
    "    else:\n",
    "        a=max_arr(arr[2:])\n",
    "        b=max_arr(arr[0:2])\n",
    "        if a>=b:\n",
    "            return a\n",
    "        else:\n",
    "            return b\n",
    "def max_arr_2(arr):\n",
    "    if (len(arr)==1):\n",
    "        return arr[0]\n",
    "    else:\n",
    "        a=max_arr(arr[0:1])\n",
    "        b=max_arr(arr[1:])\n",
    "        if a>=b:\n",
    "            return a\n",
    "        else:\n",
    "            return b\n",
    "print(max_arr_2([8,0,3,4,1000,4]))\n",
    "max_arr_1([3,3])"
   ]
  },
  {
   "cell_type": "code",
   "execution_count": 30,
   "metadata": {},
   "outputs": [
    {
     "data": {
      "text/plain": [
       "55"
      ]
     },
     "execution_count": 30,
     "metadata": {},
     "output_type": "execute_result"
    }
   ],
   "source": [
    "def sum_n(n):\n",
    "    \"\"\"求1+2+3+....+n\"\"\"\n",
    "    \"\"\"n*(n+1)/2\"\"\"\n",
    "    if n==1:\n",
    "        return 1\n",
    "    else:\n",
    "        return n+sum_n(n-1)\n",
    "sum_n(10)"
   ]
  },
  {
   "cell_type": "code",
   "execution_count": 40,
   "metadata": {},
   "outputs": [
    {
     "data": {
      "text/plain": [
       "[1, 2, 4, 0, 3]"
      ]
     },
     "execution_count": 40,
     "metadata": {},
     "output_type": "execute_result"
    }
   ],
   "source": [
    "# def swap(a,b):\n",
    "#     a,b=b,a\n",
    "\n",
    "# def quick_sort(arr):\n",
    "#     if len(arr)==1:\n",
    "#         return\n",
    "#     base=arr[0]\n",
    "#     left_index=0\n",
    "#     right_index=len(arr)-1\n",
    "#     while(arr[right_index]>base):\n",
    "#         if right_index==left_index:\n",
    "#             break\n",
    "#         right_index-=1\n",
    "#     swap(arr[right_index],arr[left_index])\n",
    "#     right_index-=1\n",
    "#     while(arr[left_index]<base):\n",
    "#         if right_index==left_index:\n",
    "#             break\n",
    "#         left_index+=1\n",
    "#     swap(arr[right_index],arr[left_index])\n",
    "#     left_index+=1\n",
    "#     quick_sort(arr[0:left_index])\n",
    "#     quick_sort(arr[left_index:])\n",
    "# i=[1,2,4,0,3]\n",
    "# # quick_sort(i)  \n",
    "# i[0:3][0],i[0:3][1]=i[0:3][1],i[0:3][0]\n",
    "        \n",
    "# i"
   ]
  },
  {
   "cell_type": "code",
   "execution_count": null,
   "metadata": {},
   "outputs": [],
   "source": []
  }
 ],
 "metadata": {
  "kernelspec": {
   "display_name": "Python 3",
   "language": "python",
   "name": "python3"
  },
  "language_info": {
   "codemirror_mode": {
    "name": "ipython",
    "version": 3
   },
   "file_extension": ".py",
   "mimetype": "text/x-python",
   "name": "python",
   "nbconvert_exporter": "python",
   "pygments_lexer": "ipython3",
   "version": "3.7.3"
  }
 },
 "nbformat": 4,
 "nbformat_minor": 2
}
